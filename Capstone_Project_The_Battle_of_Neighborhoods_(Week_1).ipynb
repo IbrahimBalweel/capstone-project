{
  "nbformat": 4,
  "nbformat_minor": 0,
  "metadata": {
    "kernelspec": {
      "display_name": "Python 3.7",
      "language": "python",
      "name": "python3"
    },
    "language_info": {
      "codemirror_mode": {
        "name": "ipython",
        "version": 3
      },
      "file_extension": ".py",
      "mimetype": "text/x-python",
      "name": "python",
      "nbconvert_exporter": "python",
      "pygments_lexer": "ipython3",
      "version": "3.7.10"
    },
    "colab": {
      "name": "Capstone Project - The Battle of Neighborhoods  (Week 1).ipynb",
      "provenance": [],
      "collapsed_sections": []
    }
  },
  "cells": [
    {
      "cell_type": "markdown",
      "metadata": {
        "collapsed": true,
        "id": "j7RCLPK66KbS"
      },
      "source": [
        "# Coursera Capstone Project"
      ]
    },
    {
      "cell_type": "markdown",
      "metadata": {
        "id": "v_Nsxtfl6KbT"
      },
      "source": [
        "Table of contents\n",
        "\n",
        "1. Introduction: Business Problem\n",
        "2. Data\n",
        "3. Methodology\n",
        "4. Results and Discussion\n",
        "5. Conclusion"
      ]
    },
    {
      "cell_type": "markdown",
      "metadata": {
        "id": "z3gnoH356KbU"
      },
      "source": [
        "## 1. Introduction : Business Problem"
      ]
    },
    {
      "cell_type": "markdown",
      "metadata": {
        "id": "pdpp9gGB6KbU"
      },
      "source": [
        "#### 1.1 Description of the problem"
      ]
    },
    {
      "cell_type": "markdown",
      "metadata": {
        "id": "nvU4n7pK6KbV"
      },
      "source": [
        "The business problem we are currently posing is: This project would specifically help Business people planning to start Restaurants, Hotels, etc. in Jakarta, Indonesia.\n",
        "\n",
        "The Foursquare API is used to access the venues in the neighborhoods. Since, it returns less venues in the neighborhoods, we would be analysing areas for which countable number of venues are obtained. Then they are clustered based on their venues using Data Science Techniques. Here the k-means clustering algorithm is used to achieve the task. The optimal number of clusters can be obtained using silhouette score. Folium visualization library can be used to visualize the clusters superimposed on the map of Jakarta city. These clusters can be analyzed to help small scale business owners select a suitable location for their need such as Hotels, Shopping Malls, Restaurants, or Coffee shops.\n",
        "\n"
      ]
    },
    {
      "cell_type": "markdown",
      "metadata": {
        "id": "W9MifCsf6KbV"
      },
      "source": [
        "#### 1.2 Discussion of the problem"
      ]
    },
    {
      "cell_type": "markdown",
      "metadata": {
        "id": "cnYtJCaA6KbV"
      },
      "source": [
        "Jakarta , officially the Special Capital Region of Jakarta, is the capital of Indonesia. It lies on the northwest coast of Java (the world's most populous island). Jakarta is the centre of the economy, culture and politics of Indonesia. It has province level status which had a population of 10,562,088 as of 2020. Although Jakarta extends over only 699.5 square kilometres (270.1 sq mi), and thus has the smallest area of any Indonesian province, its metropolitan area covers 6,392 square kilometres (2,468 sq mi), and is the world's second-most populous urban area, after Tokyo. It has a population of about 35.934 million as of 2020. \n",
        "\n",
        "Jakarta's business opportunities, and its ability to offer a potentially higher standard of living than is available in other parts of the country, have attracted migrants from across the Indonesian archipelago, making it a melting pot of numerous cultures. \n",
        "\n",
        "So, how could we leverage Foursquare location data and machine learning to help us make decision and find appropriate neighborhoods? This is the problem I would like to address in this capstone project taking Jakarta as an example. In this project, I am going to use Foursquare location data and clustering methods to group the districts to different group by their Business venues information."
      ]
    },
    {
      "cell_type": "markdown",
      "metadata": {
        "id": "qx1gEye56KbW"
      },
      "source": [
        "### Import the required libraries"
      ]
    },
    {
      "cell_type": "code",
      "metadata": {
        "id": "Ehmqc2pB6KbW"
      },
      "source": [
        "import numpy as np # library to handle data in a vectorized manner\n",
        "\n",
        "import pandas as pd # library for data analsysis\n",
        "pd.set_option('display.max_columns', None)\n",
        "pd.set_option('display.max_rows', None)\n",
        "\n",
        "import json # library to handle JSON files\n",
        "import requests # library to handle requests\n",
        "import pandas as pd # library for data analsysis\n",
        "import numpy as np # library to handle data in a vectorized manner\n",
        "import random # library for random number generation\n",
        "\n",
        "\n",
        "!pip install geopy\n",
        "from geopy.geocoders import Nominatim # module to convert an address into latitude and longitude values\n",
        "\n",
        "# libraries for displaying images\n",
        "from IPython.display import Image \n",
        "from IPython.core.display import HTML \n",
        "    \n",
        "# tranforming json file into a pandas dataframe library\n",
        "from pandas.io.json import json_normalize\n",
        "\n",
        "\n",
        "! pip install folium==0.5.0\n",
        "import folium # plotting library\n",
        "\n",
        "!pip install opencage\n",
        "from opencage.geocoder import OpenCageGeocode\n",
        "\n",
        "from bs4 import BeautifulSoup\n",
        "\n",
        "from sklearn.cluster import KMeans\n",
        "from sklearn.metrics import silhouette_samples, silhouette_score\n",
        "\n",
        "import matplotlib.cm as cm\n",
        "import matplotlib.colors as colors\n",
        "import matplotlib.pyplot as plt\n",
        "%matplotlib inline\n",
        "\n",
        "print('Folium installed')\n",
        "print('Libraries imported.')"
      ],
      "execution_count": null,
      "outputs": []
    },
    {
      "cell_type": "markdown",
      "metadata": {
        "id": "0wjrXMA06KbX"
      },
      "source": [
        "## 2. Data "
      ]
    },
    {
      "cell_type": "markdown",
      "metadata": {
        "id": "IzjpzLRT6KbX"
      },
      "source": [
        "For this project, the data we use are :\n",
        "\n",
        "- Data Covid-19 cases per distict in Jakarta\n",
        "\n",
        "Data Source : https://drive.google.com/file/d/1w5ovPYjXREfd7lz9o3GwAUQuqcDYhCC5/view.\n",
        "\n",
        "But we will only use <b>nama_kota (CITY)</b> and <b>nama_kelurahan (DISTICT)</b> columns\n",
        "\n",
        "- Restaurant in each neighborhood of Jakarta\n",
        "\n",
        "Data Source : Foursquare API\n",
        "\n",
        "- Longitude & Latittude of Jakarta City and the Districts\n",
        "\n",
        "Data Source : OpenCage Geocoder API"
      ]
    },
    {
      "cell_type": "code",
      "metadata": {
        "id": "tsGk-xg46KbX",
        "outputId": "9b552dcd-ffa6-4756-be4f-c002bd80d6fd"
      },
      "source": [
        "# Read in the data Covid-19 cases per district (28 May,2020)\n",
        "df = pd.read_excel('https://raw.githubusercontent.com/IbrahimBalweel/capstone-project/main/Standar%20Kelurahan%20Data%20Corona%20(28%20MEI%202020%20Pukul%2009.00).xlsx')\n",
        "df.head()"
      ],
      "execution_count": null,
      "outputs": [
        {
          "output_type": "execute_result",
          "data": {
            "text/html": [
              "<div>\n",
              "<style scoped>\n",
              "    .dataframe tbody tr th:only-of-type {\n",
              "        vertical-align: middle;\n",
              "    }\n",
              "\n",
              "    .dataframe tbody tr th {\n",
              "        vertical-align: top;\n",
              "    }\n",
              "\n",
              "    .dataframe thead th {\n",
              "        text-align: right;\n",
              "    }\n",
              "</style>\n",
              "<table border=\"1\" class=\"dataframe\">\n",
              "  <thead>\n",
              "    <tr style=\"text-align: right;\">\n",
              "      <th></th>\n",
              "      <th>ID_KEL</th>\n",
              "      <th>ID_KEL.1</th>\n",
              "      <th>Nama_provinsi</th>\n",
              "      <th>nama_kota</th>\n",
              "      <th>nama_kecamatan</th>\n",
              "      <th>nama_kelurahan</th>\n",
              "      <th>ODP</th>\n",
              "      <th>Proses Pemantauan</th>\n",
              "      <th>Selesai Pemantauan</th>\n",
              "      <th>PDP</th>\n",
              "      <th>Masih Dirawat</th>\n",
              "      <th>Pulang dan Sehat</th>\n",
              "      <th>POSITIF</th>\n",
              "      <th>Dirawat</th>\n",
              "      <th>Sembuh</th>\n",
              "      <th>Meninggal</th>\n",
              "      <th>Self Isolation</th>\n",
              "      <th>Keterangan</th>\n",
              "    </tr>\n",
              "  </thead>\n",
              "  <tbody>\n",
              "    <tr>\n",
              "      <th>0</th>\n",
              "      <td>NaN</td>\n",
              "      <td>NaN</td>\n",
              "      <td>NaN</td>\n",
              "      <td>NaN</td>\n",
              "      <td>NaN</td>\n",
              "      <td>TOTAL</td>\n",
              "      <td>30704</td>\n",
              "      <td>746</td>\n",
              "      <td>29958</td>\n",
              "      <td>9577</td>\n",
              "      <td>1005</td>\n",
              "      <td>8572</td>\n",
              "      <td>6929</td>\n",
              "      <td>2055</td>\n",
              "      <td>1719</td>\n",
              "      <td>514</td>\n",
              "      <td>2641</td>\n",
              "      <td>0.0</td>\n",
              "    </tr>\n",
              "    <tr>\n",
              "      <th>1</th>\n",
              "      <td>BELUM DIKETAHUI</td>\n",
              "      <td>BELUM DIKETAHUI</td>\n",
              "      <td>BELUM DIKETAHUI</td>\n",
              "      <td>BELUM DIKETAHUI</td>\n",
              "      <td>BELUM DIKETAHUI</td>\n",
              "      <td>BELUM DIKETAHUI</td>\n",
              "      <td>3723</td>\n",
              "      <td>107</td>\n",
              "      <td>3616</td>\n",
              "      <td>2584</td>\n",
              "      <td>272</td>\n",
              "      <td>2312</td>\n",
              "      <td>539</td>\n",
              "      <td>149</td>\n",
              "      <td>26</td>\n",
              "      <td>8</td>\n",
              "      <td>356</td>\n",
              "      <td>NaN</td>\n",
              "    </tr>\n",
              "    <tr>\n",
              "      <th>2</th>\n",
              "      <td>LUAR DKI JAKARTA</td>\n",
              "      <td>LUAR DKI JAKARTA</td>\n",
              "      <td>LUAR DKI JAKARTA</td>\n",
              "      <td>LUAR DKI JAKARTA</td>\n",
              "      <td>LUAR DKI JAKARTA</td>\n",
              "      <td>LUAR DKI JAKARTA</td>\n",
              "      <td>5706</td>\n",
              "      <td>342</td>\n",
              "      <td>5364</td>\n",
              "      <td>1638</td>\n",
              "      <td>229</td>\n",
              "      <td>1409</td>\n",
              "      <td>1329</td>\n",
              "      <td>499</td>\n",
              "      <td>382</td>\n",
              "      <td>71</td>\n",
              "      <td>377</td>\n",
              "      <td>NaN</td>\n",
              "    </tr>\n",
              "    <tr>\n",
              "      <th>3</th>\n",
              "      <td>3173061005</td>\n",
              "      <td>3173061005</td>\n",
              "      <td>DKI JAKARTA</td>\n",
              "      <td>JAKARTA BARAT</td>\n",
              "      <td>KALI DERES</td>\n",
              "      <td>PEGADUNGAN</td>\n",
              "      <td>129</td>\n",
              "      <td>0</td>\n",
              "      <td>129</td>\n",
              "      <td>61</td>\n",
              "      <td>0</td>\n",
              "      <td>61</td>\n",
              "      <td>51</td>\n",
              "      <td>15</td>\n",
              "      <td>28</td>\n",
              "      <td>4</td>\n",
              "      <td>4</td>\n",
              "      <td>NaN</td>\n",
              "    </tr>\n",
              "    <tr>\n",
              "      <th>4</th>\n",
              "      <td>3174071006</td>\n",
              "      <td>3174071006</td>\n",
              "      <td>DKI JAKARTA</td>\n",
              "      <td>JAKARTA SELATAN</td>\n",
              "      <td>KEBAYORAN BARU</td>\n",
              "      <td>SENAYAN</td>\n",
              "      <td>7</td>\n",
              "      <td>0</td>\n",
              "      <td>7</td>\n",
              "      <td>13</td>\n",
              "      <td>0</td>\n",
              "      <td>13</td>\n",
              "      <td>17</td>\n",
              "      <td>0</td>\n",
              "      <td>16</td>\n",
              "      <td>0</td>\n",
              "      <td>1</td>\n",
              "      <td>NaN</td>\n",
              "    </tr>\n",
              "  </tbody>\n",
              "</table>\n",
              "</div>"
            ],
            "text/plain": [
              "             ID_KEL          ID_KEL.1     Nama_provinsi         nama_kota  \\\n",
              "0               NaN               NaN               NaN               NaN   \n",
              "1   BELUM DIKETAHUI   BELUM DIKETAHUI   BELUM DIKETAHUI   BELUM DIKETAHUI   \n",
              "2  LUAR DKI JAKARTA  LUAR DKI JAKARTA  LUAR DKI JAKARTA  LUAR DKI JAKARTA   \n",
              "3        3173061005        3173061005       DKI JAKARTA     JAKARTA BARAT   \n",
              "4        3174071006        3174071006       DKI JAKARTA   JAKARTA SELATAN   \n",
              "\n",
              "     nama_kecamatan    nama_kelurahan    ODP  Proses Pemantauan  \\\n",
              "0               NaN             TOTAL  30704                746   \n",
              "1   BELUM DIKETAHUI   BELUM DIKETAHUI   3723                107   \n",
              "2  LUAR DKI JAKARTA  LUAR DKI JAKARTA   5706                342   \n",
              "3        KALI DERES        PEGADUNGAN    129                  0   \n",
              "4    KEBAYORAN BARU           SENAYAN      7                  0   \n",
              "\n",
              "   Selesai Pemantauan   PDP  Masih Dirawat  Pulang dan Sehat  POSITIF  \\\n",
              "0               29958  9577           1005              8572     6929   \n",
              "1                3616  2584            272              2312      539   \n",
              "2                5364  1638            229              1409     1329   \n",
              "3                 129    61              0                61       51   \n",
              "4                   7    13              0                13       17   \n",
              "\n",
              "   Dirawat  Sembuh  Meninggal  Self Isolation  Keterangan  \n",
              "0     2055    1719        514            2641         0.0  \n",
              "1      149      26          8             356         NaN  \n",
              "2      499     382         71             377         NaN  \n",
              "3       15      28          4               4         NaN  \n",
              "4        0      16          0               1         NaN  "
            ]
          },
          "metadata": {
            "tags": []
          },
          "execution_count": 82
        }
      ]
    },
    {
      "cell_type": "markdown",
      "metadata": {
        "id": "6E0WmkoZ61Nf"
      },
      "source": [
        "# 3. Methodology"
      ]
    },
    {
      "cell_type": "markdown",
      "metadata": {
        "id": "qDyGfxw667NR"
      },
      "source": [
        "# 4. Result & Discussion"
      ]
    },
    {
      "cell_type": "markdown",
      "metadata": {
        "id": "QiU5XLHb67Rq"
      },
      "source": [
        "# 5. Conclussion"
      ]
    },
    {
      "cell_type": "code",
      "metadata": {
        "id": "hu0l7snj7CTk"
      },
      "source": [
        ""
      ],
      "execution_count": null,
      "outputs": []
    }
  ]
}